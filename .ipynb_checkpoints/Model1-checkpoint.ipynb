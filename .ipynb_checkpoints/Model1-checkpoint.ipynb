{
 "cells": [
  {
   "cell_type": "code",
   "execution_count": 2,
   "metadata": {},
   "outputs": [
    {
     "name": "stderr",
     "output_type": "stream",
     "text": [
      "D:\\developsoft\\anaconda3\\lib\\site-packages\\IPython\\core\\interactiveshell.py:2698: DtypeWarning: Columns (8) have mixed types. Specify dtype option on import or set low_memory=False.\n",
      "  interactivity=interactivity, compiler=compiler, result=result)\n"
     ]
    }
   ],
   "source": [
    "import pandas as pd\n",
    "import numpy as np\n",
    "train_op=pd.read_csv(r\"D:\\DA_competition\\DC\\data\\operation_train.csv\")\n",
    "train_tag=pd.read_csv(r\"D:\\DA_competition\\DC\\data\\tag_train.csv\")\n",
    "train_tr=pd.read_csv(r\"D:\\DA_competition\\DC\\data\\transaction_train.csv\")\n",
    "\n",
    "#表连接\n",
    "train_op=pd.merge(train_op,train_tag,on=\"UID\",how=\"left\")\n",
    "train_op=train_op.drop_duplicates()\n",
    "train_tr=pd.merge(train_tr,train_tag,on=\"UID\",how=\"left\")\n",
    "train_tr=train_tr.drop_duplicates()\n",
    "\n",
    "test_op=pd.read_csv(r\"D:\\DA_competition\\DC\\data\\operation_test.csv\")\n",
    "test_tr=pd.read_csv(r\"D:\\DA_competition\\DC\\data\\transaction_test.csv\")\n"
   ]
  },
  {
   "cell_type": "code",
   "execution_count": 3,
   "metadata": {
    "collapsed": true
   },
   "outputs": [],
   "source": [
    "train_fts=pd.DataFrame()\n",
    "test_fts=pd.DataFrame()"
   ]
  },
  {
   "cell_type": "code",
   "execution_count": null,
   "metadata": {
    "collapsed": true
   },
   "outputs": [],
   "source": [
    "train_fts_discrete=pd.DataFrame()\n",
    "test_fts_discrete=pd.DataFrame()\n",
    "op_discrete=[\"mode\",\"success\",\"os\",\"version\",\"device1\",\"device2\",\"geo_code\"]\n",
    "tr_discrete=[\"channel\",\"day\",\"time\",\"amt_src1\",\"amt_src2\",\"merchant\",\"code1\",\"code2\",\"trans_type1\",\"trans_type2\",\"device1\",\"device2\",\"geo_code\",\"market_code\",\"market_type\"]\n"
   ]
  }
 ],
 "metadata": {
  "kernelspec": {
   "display_name": "Python 3",
   "language": "python",
   "name": "python3"
  },
  "language_info": {
   "codemirror_mode": {
    "name": "ipython",
    "version": 3
   },
   "file_extension": ".py",
   "mimetype": "text/x-python",
   "name": "python",
   "nbconvert_exporter": "python",
   "pygments_lexer": "ipython3",
   "version": "3.6.3"
  }
 },
 "nbformat": 4,
 "nbformat_minor": 2
}
