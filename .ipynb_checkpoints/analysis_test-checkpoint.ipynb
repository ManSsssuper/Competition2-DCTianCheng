{
 "cells": [
  {
   "cell_type": "code",
   "execution_count": 1,
   "metadata": {
    "collapsed": true
   },
   "outputs": [],
   "source": [
    "import pandas as pd\n",
    "import numpy as np\n",
    "import matplotlib\n",
    "#指定默认字体\n",
    "matplotlib.rcParams['font.sans-serif'] = ['SimHei']\n",
    "matplotlib.rcParams['font.family']='sans-serif'\n",
    "pd.option_context('display.float_format', lambda x: '%.3f' % x)\n",
    "import matplotlib.pyplot as plt"
   ]
  },
  {
   "cell_type": "code",
   "execution_count": 7,
   "metadata": {},
   "outputs": [
    {
     "name": "stderr",
     "output_type": "stream",
     "text": [
      "D:\\developsoft\\anaconda3\\lib\\site-packages\\IPython\\core\\interactiveshell.py:2698: DtypeWarning: Columns (8) have mixed types. Specify dtype option on import or set low_memory=False.\n",
      "  interactivity=interactivity, compiler=compiler, result=result)\n"
     ]
    }
   ],
   "source": [
    "test_tr=pd.read_csv(r\"D:\\DA_competition\\DC\\data\\transaction_test.csv\")\n",
    "test_op=pd.read_csv(r\"D:\\DA_competition\\DC\\data\\operation_test.csv\")\n",
    "test_tr=test_tr.drop_duplicates()\n",
    "test_op=test_op.drop_duplicates()\n",
    "train_op=pd.read_csv(r\"D:\\DA_competition\\DC\\data\\operation_train.csv\")\n",
    "train_tag=pd.read_csv(r\"D:\\DA_competition\\DC\\data\\tag_train.csv\")\n",
    "train_tr=pd.read_csv(r\"D:\\DA_competition\\DC\\data\\transaction_train.csv\")\n",
    "\n",
    "#表连接\n",
    "train_op=pd.merge(train_op,train_tag,on=\"UID\",how=\"left\")\n",
    "train_op=train_op.drop_duplicates()\n",
    "train_tr=pd.merge(train_tr,train_tag,on=\"UID\",how=\"left\")\n",
    "train_tr=train_tr.drop_duplicates()\n"
   ]
  },
  {
   "cell_type": "code",
   "execution_count": 16,
   "metadata": {
    "scrolled": true
   },
   "outputs": [
    {
     "name": "stdout",
     "output_type": "stream",
     "text": [
      "5     43bd7c1135abe71a\n",
      "17    6216c95d48247735\n",
      "28    17a6ee1a7b6a02b7\n",
      "29    680d16190f2d0390\n",
      "45    9105f3241c9ca194\n",
      "62    3f6258f4825c2251\n",
      "70    da9f055c25d788dc\n",
      "77    ead94ed7824d5bf0\n",
      "80    f7fbf43db10b8678\n",
      "82    4949910f9a417183\n",
      "87    939320db2cbfb0f1\n",
      "89    c5bdf60179ae58d7\n",
      "93    ca1dadf842dcd7a5\n",
      "94    b33675e39153768c\n",
      "dtype: object\n",
      "64    a6a93673bd79224c\n",
      "65    d22abe3bc961e5f2\n",
      "67    e00efcf34eb17f69\n",
      "68    0e72a7851fadf00b\n",
      "70    ae18d98d880f65bc\n",
      "74    ce2ef1dc219082d9\n",
      "85    4d24371c232305b3\n",
      "86    44aa2d1440730479\n",
      "dtype: object\n",
      "Series([], dtype: float64)\n",
      "Series([], dtype: float64)\n",
      "Series([], dtype: int64)\n",
      "Series([], dtype: int64)\n",
      "1              7.1.3\n",
      "5              7.1.2\n",
      "13             1.3.0\n",
      "14             6.0.5\n",
      "28            5.8.19\n",
      "29             5.8.6\n",
      "30             6.2.1\n",
      "33             3.8.7\n",
      "34    4.2.19.0702.r3\n",
      "35             6.5.6\n",
      "36             7.1.1\n",
      "37             5.1.9\n",
      "38             5.3.2\n",
      "dtype: object\n",
      "18    5.8.23\n",
      "20     6.5.3\n",
      "22    5.8.22\n",
      "24     6.5.7\n",
      "26     6.5.4\n",
      "27     4.2.2\n",
      "29     4.3.0\n",
      "30     3.9.3\n",
      "31    5.8.11\n",
      "32     7.0.8\n",
      "34     7.0.6\n",
      "38     5.1.1\n",
      "dtype: object\n"
     ]
    }
   ],
   "source": [
    "#分析mode\n",
    "for c in [\"mode\",\"success\",\"os\",\"version\"]:\n",
    "    \n",
    "    c_test=pd.Series(test_op[c].unique())\n",
    "    c_train=pd.Series(train_op[c].unique())\n",
    "    print(c_test[~c_test.isin(c_train)])\n",
    "    print(c_train[~c_train.isin(c_test)])"
   ]
  },
  {
   "cell_type": "code",
   "execution_count": null,
   "metadata": {
    "collapsed": true
   },
   "outputs": [],
   "source": [
    "#交易表\n",
    "test_tr_info=pd.DataFrame()\n",
    "test_tr_info[\"样本数\"]=test_tr.apply(lambda x:len(x),axis=0)\n",
    "test_tr_info[\"空值数\"]=test_tr.apply(lambda x:len(x[x.isnull()]),axis=0)\n",
    "test_tr_info[\"空值占比\"]=test_tr_info[\"空值数\"]/len(train_tr)\n",
    "\n",
    "test_op_info=pd.DataFrame()\n",
    "test_op_info[\"样本数\"]=test_op.apply(lambda x:len(x),axis=0)\n",
    "test_op_info[\"空值数\"]=test_op.apply(lambda x:len(x[x.isnull()]),axis=0)\n",
    "test_op_info[\"空值占比\"]=test_op_info[\"空值数\"]/len(train_tr)"
   ]
  },
  {
   "cell_type": "code",
   "execution_count": null,
   "metadata": {
    "collapsed": true
   },
   "outputs": [],
   "source": []
  }
 ],
 "metadata": {
  "kernelspec": {
   "display_name": "Python 3",
   "language": "python",
   "name": "python3"
  },
  "language_info": {
   "codemirror_mode": {
    "name": "ipython",
    "version": 3
   },
   "file_extension": ".py",
   "mimetype": "text/x-python",
   "name": "python",
   "nbconvert_exporter": "python",
   "pygments_lexer": "ipython3",
   "version": "3.6.3"
  }
 },
 "nbformat": 4,
 "nbformat_minor": 2
}
